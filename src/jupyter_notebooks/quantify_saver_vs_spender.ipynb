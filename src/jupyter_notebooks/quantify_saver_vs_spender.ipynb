{
 "cells": [
  {
   "cell_type": "markdown",
   "metadata": {},
   "source": [
    "Quantify the number of savers and spenders"
   ]
  },
  {
   "cell_type": "code",
   "execution_count": 1,
   "metadata": {},
   "outputs": [],
   "source": [
    "import pandas as pd\n",
    "import numpy as np\n",
    "from datetime import datetime\n",
    "import re\n",
    "from tqdm import tqdm\n",
    "import os"
   ]
  },
  {
   "cell_type": "code",
   "execution_count": 2,
   "metadata": {},
   "outputs": [],
   "source": [
    "df_money = pd.read_csv('../../data/asking_money_sample.csv')\n",
    "df_no_money = pd.read_csv('../../data/asking_no_money_sample.csv')\n",
    "df_some_money = pd.read_csv('../../data/asking_some_money_sample.csv')\n",
    "df = pd.concat([df_money, df_some_money, df_no_money], ignore_index=False)"
   ]
  },
  {
   "cell_type": "code",
   "execution_count": 3,
   "metadata": {},
   "outputs": [],
   "source": [
    "def convert_datetime(x):\n",
    "    if not isinstance(x, str):\n",
    "        return x\n",
    "    # Ignore time zone info\n",
    "    if 'T' in x and 'Z' in x:\n",
    "        x = x.split('T')[0]\n",
    "    try:\n",
    "        temp = datetime.strptime(x, '%Y-%m-%d %H:%M:%S')\n",
    "    except:\n",
    "        try:\n",
    "            temp = datetime.strptime(x, '%Y-%m-%d')\n",
    "        except:\n",
    "            try:\n",
    "                temp = datetime.strptime(x, '%m/%d/%Y')\n",
    "            except:\n",
    "                try:\n",
    "                    temp = datetime.strptime(x, '%m/%d/%Y %H:%M:%S')\n",
    "                except:\n",
    "                    temp = datetime.strptime(x, '%m/%d/%Y %H:%M')\n",
    "    return temp"
   ]
  },
  {
   "cell_type": "code",
   "execution_count": 4,
   "metadata": {},
   "outputs": [],
   "source": [
    "# return 0 for neither saver or spender, 1 for saver, and 2 for spender\n",
    "def analyze_oc_date(url):\n",
    "    path = '../data_mining/files/20190719_OpenCollective CSV'\n",
    "    url_name = url.split('#')[0].rstrip()\n",
    "    url_name = url_name.split('/')[-1]\n",
    "    url_name = url_name.split(' ')[0]\n",
    "    directory = os.fsencode(path)\n",
    "    for file in os.listdir(directory):\n",
    "        # Open csv file\n",
    "        file = file.decode(\"utf-8\")\n",
    "        name = file.split('--')[0]\n",
    "        if name == url_name.lower():\n",
    "            df_oc = pd.read_csv(path+'/'+file)\n",
    "            df_oc['Transaction Date'] = df_oc['Transaction Date'].apply(convert_datetime)\n",
    "            total_earning = df_oc[(df_oc['Transaction Amount'] > 0)&\n",
    "                (df_oc['Transaction Date'] <= '2019-05-23')]['Transaction Amount'].sum()\n",
    "            total_expense = df_oc[(df_oc['Transaction Amount'] < 0)&\n",
    "                (df_oc['Transaction Date'] <= '2019-05-23')]['Transaction Amount'].sum()*-1\n",
    "            if total_expense < 0.25*total_earning:\n",
    "                return 1\n",
    "            elif total_expense > 0.75*total_earning:\n",
    "                return 2\n",
    "            else:\n",
    "                return 0\n",
    "    return 0"
   ]
  },
  {
   "cell_type": "code",
   "execution_count": 5,
   "metadata": {},
   "outputs": [
    {
     "name": "stdout",
     "output_type": "stream",
     "text": [
      "spender: wangfangning/webpack-cli\n",
      "saver: trollianspace/trollian\n",
      "saver: feathersjs/feathers\n",
      "saver: facebook/docusaurus\n",
      "saver: ryandharper/ryanharper.co.uk\n",
      "saver: burtonator/polar-bookshelf\n",
      "saver: sinonjs/samsam\n",
      "saver: slaveuser/bootstrap20190320\n",
      "saver: lukehelminiak/Alpha\n",
      "saver: Actinium-project/ln-plugin-pony\n",
      "saver: goby-lang/goby\n",
      "saver: sous-chefs/ossec\n",
      "saver: Andreezw/Tablero\n",
      "saver: micaeloliveira/gatsby-starter-lumen\n",
      "spender: discourse/wp-discourse\n"
     ]
    }
   ],
   "source": [
    "dicts = df.to_dict('records')\n",
    "results = {'saver':0, 'spender':0, 'neither':0}\n",
    "for row in dicts:\n",
    "    if not pd.isna(row['opencollective_url']):\n",
    "        res = analyze_oc_date(row['opencollective_url'])\n",
    "        if res == 1:\n",
    "            print('saver:', row['slug'])\n",
    "            results['saver'] += 1\n",
    "        elif res == 2:\n",
    "            print('spender:', row['slug'])\n",
    "            results['spender'] += 1\n",
    "        else:\n",
    "            results['neither'] += 1"
   ]
  },
  {
   "cell_type": "code",
   "execution_count": 6,
   "metadata": {},
   "outputs": [
    {
     "data": {
      "text/plain": [
       "{'saver': 13, 'spender': 2, 'neither': 12}"
      ]
     },
     "execution_count": 6,
     "metadata": {},
     "output_type": "execute_result"
    }
   ],
   "source": [
    "results"
   ]
  },
  {
   "cell_type": "code",
   "execution_count": null,
   "metadata": {},
   "outputs": [],
   "source": []
  }
 ],
 "metadata": {
  "kernelspec": {
   "display_name": "Python 3",
   "language": "python",
   "name": "python3"
  },
  "language_info": {
   "codemirror_mode": {
    "name": "ipython",
    "version": 3
   },
   "file_extension": ".py",
   "mimetype": "text/x-python",
   "name": "python",
   "nbconvert_exporter": "python",
   "pygments_lexer": "ipython3",
   "version": "3.6.8"
  }
 },
 "nbformat": 4,
 "nbformat_minor": 2
}
